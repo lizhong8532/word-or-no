{
 "cells": [
  {
   "cell_type": "code",
   "execution_count": 19,
   "metadata": {
    "collapsed": true
   },
   "outputs": [],
   "source": [
    "import os\n",
    "import numpy as np\n",
    "from PIL import Image\n",
    "import random"
   ]
  },
  {
   "cell_type": "code",
   "execution_count": 20,
   "metadata": {
    "collapsed": true
   },
   "outputs": [],
   "source": [
    "def create_right_background(root_path, background_path, to_path, str1):\n",
    "    back = Image.open(background_path)\n",
    "    width1, height1 = back.size\n",
    "    for _, _, imglist in os.walk(root_path):\n",
    "        for img_name in imglist:\n",
    "            name, ext = img_name.split('.', 1)\n",
    "            if (ext=='jpg' or ext=='png'):\n",
    "                imgpath = root_path + img_name\n",
    "                front = Image.open(imgpath)\n",
    "                if (front.mode != 'RGB'):\n",
    "                    front = front.convert('RGB')\n",
    "                new = Image.new('RGB', front.size, (255,255,255)) # create a new blank pic\n",
    "                width, height = front.size\n",
    "                if (height1>height):\n",
    "                    point = random.randint(0, height1-height)\n",
    "                    bound1 = width//3\n",
    "                    box = (0, point, bound1, point+height)\n",
    "                    region = back.crop(box)\n",
    "                    box1=(width-bound1, 0, width, height)\n",
    "                    new.paste(region,box1)\n",
    "                    frontarr = np.array(front)\n",
    "                    newarr = np.array(new)\n",
    "                    changearr = np.where(frontarr<=180, frontarr, newarr)\n",
    "                    re_im = Image.fromarray(changearr)\n",
    "                    re_name = to_path + name + '_' + str1 + '_' + str(1) + '.' +ext\n",
    "                    re_im.save(re_name)\n",
    "\n",
    "def create_left_background(root_path, background_path, to_path, str1):\n",
    "    back = Image.open(background_path)\n",
    "    width1, height1 = back.size\n",
    "    for _, _, imglist in os.walk(root_path):\n",
    "        for img_name in imglist:\n",
    "            name, ext = img_name.split('.', 1)\n",
    "            if (ext=='jpg' or ext=='png'):\n",
    "                imgpath = root_path + img_name\n",
    "                front = Image.open(imgpath)\n",
    "                if (front.mode != 'RGB'):\n",
    "                    front = front.convert('RGB')\n",
    "                new = Image.new('RGB', front.size, (255,255,255)) # create a new blank pic\n",
    "                width, height = front.size\n",
    "                if (height1>height):\n",
    "                    point = random.randint(0, height1-height)\n",
    "                    bound1 = width//3\n",
    "                    box = (width1-bound1, point, width1, point+height)\n",
    "                    region = back.crop(box)\n",
    "                    box1=(0, 0, bound1, height)\n",
    "                    new.paste(region,box1)\n",
    "                    frontarr = np.array(front)\n",
    "                    newarr = np.array(new)\n",
    "                    changearr = np.where(frontarr<=180, frontarr, newarr)\n",
    "                    re_im = Image.fromarray(changearr)\n",
    "                    re_name = to_path + name + '_' + str1 + '_' + str(2) + '.' +ext\n",
    "                    re_im.save(re_name)\n",
    "                    \n",
    "def create_up_background(root_path, background_path, to_path, str1):\n",
    "    back = Image.open(background_path)\n",
    "    width1, height1 = back.size\n",
    "    for _, _, imglist in os.walk(root_path):\n",
    "        for img_name in imglist:\n",
    "            name, ext = img_name.split('.', 1)\n",
    "            if (ext=='jpg' or ext=='png'):\n",
    "                imgpath = root_path + img_name\n",
    "                front = Image.open(imgpath)\n",
    "                if (front.mode != 'RGB'):\n",
    "                    front = front.convert('RGB')\n",
    "                new = Image.new('RGB', front.size, (255,255,255)) # create a new blank pic\n",
    "                width, height = front.size\n",
    "                if (width1>width):\n",
    "                    point = random.randint(0, width1-width)\n",
    "                    bound1 = height//3\n",
    "                    box = (point, height1-bound1, point+width, height1)\n",
    "                    region = back.crop(box)\n",
    "                    box1=(0, 0, width, bound1)\n",
    "                    new.paste(region,box1)\n",
    "                    frontarr = np.array(front)\n",
    "                    newarr = np.array(new)\n",
    "                    changearr = np.where(frontarr<=180, frontarr, newarr)\n",
    "                    re_im = Image.fromarray(changearr)\n",
    "                    re_name = to_path + name + '_' + str1 + '_' + str(3) + '.' +ext\n",
    "                    re_im.save(re_name)\n",
    "                    \n",
    "def create_down_background(root_path, background_path, to_path, str1):\n",
    "    back = Image.open(background_path)\n",
    "    width1, height1 = back.size\n",
    "    for _, _, imglist in os.walk(root_path):\n",
    "        for img_name in imglist:\n",
    "            name, ext = img_name.split('.', 1)\n",
    "            if (ext=='jpg' or ext=='png'):\n",
    "                imgpath = root_path + img_name\n",
    "                front = Image.open(imgpath)\n",
    "                if (front.mode != 'RGB'):\n",
    "                    front = front.convert('RGB')\n",
    "                new = Image.new('RGB', front.size, (255,255,255)) # create a new blank pic\n",
    "                width, height = front.size\n",
    "                if (width1>width):\n",
    "                    point = random.randint(0, width1-width)\n",
    "                    bound1 = height//3\n",
    "                    box = (point, 0, point+width, bound1)\n",
    "                    region = back.crop(box)\n",
    "                    box1=(0, height-bound1, width, height)\n",
    "                    new.paste(region,box1)\n",
    "                    frontarr = np.array(front)\n",
    "                    newarr = np.array(new)\n",
    "                    changearr = np.where(frontarr<=180, frontarr, newarr)\n",
    "                    re_im = Image.fromarray(changearr)\n",
    "                    re_name = to_path + name + '_' + str1 + '_' + str(4) + '.' +ext\n",
    "                    re_im.save(re_name)"
   ]
  },
  {
   "cell_type": "code",
   "execution_count": 21,
   "metadata": {
    "collapsed": true
   },
   "outputs": [],
   "source": [
    "#front_path = '/home/com/Documents/pyOCR/subTextImg/subTextImg_binCls/val/text/'\n",
    "#back_path = '/home/com/Documents/background/'\n",
    "#to_path = '/home/com/Documents/data_new_train/val/text/'\n",
    "def create_pic_back(front_path, back_path, to_path, seq):\n",
    "    for _, _, imglist in os.walk(back_path):\n",
    "        for img_name in imglist:\n",
    "            name, ext = img_name.split('.', 1)\n",
    "            if (ext=='jpg' or ext=='png'):\n",
    "                imgpath = back_path + img_name\n",
    "                name1 = name + str(seq)\n",
    "                create_left_background(front_path, imgpath, to_path, name1)\n",
    "                #create_right_background(front_path, imgpath, to_path, name1)\n",
    "                #create_up_background(front_path, imgpath, to_path, name1)\n",
    "                create_down_background(front_path, imgpath, to_path, name1)"
   ]
  },
  {
   "cell_type": "code",
   "execution_count": 22,
   "metadata": {
    "collapsed": true
   },
   "outputs": [],
   "source": [
    "front_path1 = '/home/com/Documents/pic_new/purepic/'\n",
    "to_path = '/home/com/Documents/post_slide_train/data/val/cascade/'\n",
    "back_path = '/home/com/Documents/background/'\n",
    "for i in range(1):\n",
    "    create_pic_back(front_path1, back_path, to_path, i)"
   ]
  },
  {
   "cell_type": "code",
   "execution_count": null,
   "metadata": {
    "collapsed": true
   },
   "outputs": [],
   "source": []
  }
 ],
 "metadata": {
  "kernelspec": {
   "display_name": "Python 3",
   "language": "python",
   "name": "python3"
  },
  "language_info": {
   "codemirror_mode": {
    "name": "ipython",
    "version": 3
   },
   "file_extension": ".py",
   "mimetype": "text/x-python",
   "name": "python",
   "nbconvert_exporter": "python",
   "pygments_lexer": "ipython3",
   "version": "3.5.2"
  }
 },
 "nbformat": 4,
 "nbformat_minor": 2
}
