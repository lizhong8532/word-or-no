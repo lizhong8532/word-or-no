{
 "cells": [
  {
   "cell_type": "code",
   "execution_count": 5,
   "metadata": {
    "collapsed": true
   },
   "outputs": [],
   "source": [
    "import os\n",
    "from PIL import Image\n",
    "import sk_pic"
   ]
  },
  {
   "cell_type": "code",
   "execution_count": 6,
   "metadata": {
    "collapsed": true
   },
   "outputs": [],
   "source": [
    "def convert_all(root_path, to_path, times):\n",
    "    for i in range(times): #造times次\n",
    "        for _, _, img_list in os.walk(root_path):\n",
    "            for img_name in img_list:\n",
    "                name, ext = img_name.split('.', 1)\n",
    "                if (ext == \"png\"):\n",
    "                    pic_path = root_path + img_name\n",
    "                    pic_name = to_path + name + '_line_' +str(i) + '.' + ext\n",
    "                    sk_pic.create_pic(pic_path, pic_name)\n",
    "                    "
   ]
  },
  {
   "cell_type": "code",
   "execution_count": 7,
   "metadata": {
    "collapsed": true
   },
   "outputs": [],
   "source": [
    "root_path = '/home/com/Documents/pic_new/purepic/'\n",
    "to_path = '/home/com/Documents/post_slide_train/data/val/test/'\n",
    "convert_all(root_path, to_path, 1)"
   ]
  },
  {
   "cell_type": "code",
   "execution_count": null,
   "metadata": {
    "collapsed": true
   },
   "outputs": [],
   "source": []
  }
 ],
 "metadata": {
  "kernelspec": {
   "display_name": "Python 3",
   "language": "python",
   "name": "python3"
  },
  "language_info": {
   "codemirror_mode": {
    "name": "ipython",
    "version": 3
   },
   "file_extension": ".py",
   "mimetype": "text/x-python",
   "name": "python",
   "nbconvert_exporter": "python",
   "pygments_lexer": "ipython3",
   "version": "3.5.2"
  }
 },
 "nbformat": 4,
 "nbformat_minor": 2
}
